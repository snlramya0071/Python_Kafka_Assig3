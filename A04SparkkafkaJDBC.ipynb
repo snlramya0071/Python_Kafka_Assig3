{
 "cells": [
  {
   "cell_type": "code",
   "execution_count": 1,
   "id": "377512e7-1d74-422e-a8a3-9fb6d5ebf333",
   "metadata": {},
   "outputs": [],
   "source": [
    "import os\n",
    "# save using vs code\n",
    "SCALA_VERSION = '2.12'\n",
    "SPARK_VERSION = '3.1.3'\n",
    "# Download Kafka Jar file, this for readStream.format(\"kafka\"), \"kafka\" is a driver\n",
    "# kafka driver code is part of Maven Jar file\n",
    "# https://mvnrepository.com/artifact/org.apache.spark/spark-sql-kafka-0-10_2.12/3.1.3\n",
    "# pyspark-shell shall download the jar file behind..\n",
    "os.environ['PYSPARK_SUBMIT_ARGS'] = f'--packages org.apache.spark:spark-sql-kafka-0-10_{SCALA_VERSION}:{SPARK_VERSION} pyspark-shell'"
   ]
  },
  {
   "cell_type": "code",
   "execution_count": 2,
   "id": "de983084-e9d1-4cac-97fc-ee553ef7036d",
   "metadata": {},
   "outputs": [],
   "source": [
    "import findspark\n",
    "findspark.init()"
   ]
  },
  {
   "cell_type": "code",
   "execution_count": 3,
   "id": "a9928372-21e6-475a-b05c-e6020e38502b",
   "metadata": {},
   "outputs": [
    {
     "name": "stderr",
     "output_type": "stream",
     "text": [
      "22/04/01 01:50:51 WARN Utils: Your hostname, ubuntu-virtual-machine resolves to a loopback address: 127.0.1.1; using 192.168.80.128 instead (on interface ens33)\n",
      "22/04/01 01:50:51 WARN Utils: Set SPARK_LOCAL_IP if you need to bind to another address\n"
     ]
    },
    {
     "name": "stdout",
     "output_type": "stream",
     "text": [
      ":: loading settings :: url = jar:file:/opt/spark-3.1.3-bin-hadoop2.7/jars/ivy-2.4.0.jar!/org/apache/ivy/core/settings/ivysettings.xml\n"
     ]
    },
    {
     "name": "stderr",
     "output_type": "stream",
     "text": [
      "Ivy Default Cache set to: /home/ubuntu/.ivy2/cache\n",
      "The jars for the packages stored in: /home/ubuntu/.ivy2/jars\n",
      "org.apache.spark#spark-sql-kafka-0-10_2.12 added as a dependency\n",
      ":: resolving dependencies :: org.apache.spark#spark-submit-parent-eddfda95-2ab9-4338-a222-3cdaffc91c67;1.0\n",
      "\tconfs: [default]\n",
      "\tfound org.apache.spark#spark-sql-kafka-0-10_2.12;3.1.3 in central\n",
      "\tfound org.apache.spark#spark-token-provider-kafka-0-10_2.12;3.1.3 in central\n",
      "\tfound org.apache.kafka#kafka-clients;2.6.0 in central\n",
      "\tfound com.github.luben#zstd-jni;1.4.8-1 in central\n",
      "\tfound org.lz4#lz4-java;1.7.1 in central\n",
      "\tfound org.xerial.snappy#snappy-java;1.1.8.2 in central\n",
      "\tfound org.slf4j#slf4j-api;1.7.30 in central\n",
      "\tfound org.spark-project.spark#unused;1.0.0 in central\n",
      "\tfound org.apache.commons#commons-pool2;2.6.2 in central\n",
      ":: resolution report :: resolve 694ms :: artifacts dl 10ms\n",
      "\t:: modules in use:\n",
      "\tcom.github.luben#zstd-jni;1.4.8-1 from central in [default]\n",
      "\torg.apache.commons#commons-pool2;2.6.2 from central in [default]\n",
      "\torg.apache.kafka#kafka-clients;2.6.0 from central in [default]\n",
      "\torg.apache.spark#spark-sql-kafka-0-10_2.12;3.1.3 from central in [default]\n",
      "\torg.apache.spark#spark-token-provider-kafka-0-10_2.12;3.1.3 from central in [default]\n",
      "\torg.lz4#lz4-java;1.7.1 from central in [default]\n",
      "\torg.slf4j#slf4j-api;1.7.30 from central in [default]\n",
      "\torg.spark-project.spark#unused;1.0.0 from central in [default]\n",
      "\torg.xerial.snappy#snappy-java;1.1.8.2 from central in [default]\n",
      "\t---------------------------------------------------------------------\n",
      "\t|                  |            modules            ||   artifacts   |\n",
      "\t|       conf       | number| search|dwnlded|evicted|| number|dwnlded|\n",
      "\t---------------------------------------------------------------------\n",
      "\t|      default     |   9   |   0   |   0   |   0   ||   9   |   0   |\n",
      "\t---------------------------------------------------------------------\n",
      ":: retrieving :: org.apache.spark#spark-submit-parent-eddfda95-2ab9-4338-a222-3cdaffc91c67\n",
      "\tconfs: [default]\n",
      "\t0 artifacts copied, 9 already retrieved (0kB/10ms)\n",
      "22/04/01 01:50:53 WARN NativeCodeLoader: Unable to load native-hadoop library for your platform... using builtin-java classes where applicable\n",
      "Using Spark's default log4j profile: org/apache/spark/log4j-defaults.properties\n",
      "Setting default log level to \"WARN\".\n",
      "To adjust logging level use sc.setLogLevel(newLevel). For SparkR, use setLogLevel(newLevel).\n"
     ]
    }
   ],
   "source": [
    "import pyspark\n",
    "\n",
    "\n",
    "from pyspark.sql import SparkSession\n",
    "# spark groupBy has default setting for spark.sql.shuffle.partitions as 200\n",
    "# we set to  4, should NOT be done in production \n",
    "spark = SparkSession.builder.master(\"local[1]\")\\\n",
    "                            .config('spark.sql.shuffle.partitions', 4)\\\n",
    "                            .appName(\"SparkStreamingKafkaCandlesA4\").getOrCreate()"
   ]
  },
  {
   "cell_type": "code",
   "execution_count": 5,
   "id": "e5a0c179-5ffc-414d-97fc-98034b01d390",
   "metadata": {},
   "outputs": [],
   "source": [
    "\n",
    "kafkaDf = spark.readStream.format(\"kafka\")\\\n",
    "  .option(\"kafka.bootstrap.servers\", \"localhost:9092\")\\\n",
    "  .option(\"subscribe\", \"orders\")\\\n",
    "  .option(\"group.id\", \"orders-group-rm\")\\\n",
    "  .load()"
   ]
  },
  {
   "cell_type": "code",
   "execution_count": 6,
   "id": "ec99989e-1a2d-45ca-8206-aeff4de4562a",
   "metadata": {},
   "outputs": [
    {
     "name": "stdout",
     "output_type": "stream",
     "text": [
      "root\n",
      " |-- key: binary (nullable = true)\n",
      " |-- value: binary (nullable = true)\n",
      " |-- topic: string (nullable = true)\n",
      " |-- partition: integer (nullable = true)\n",
      " |-- offset: long (nullable = true)\n",
      " |-- timestamp: timestamp (nullable = true)\n",
      " |-- timestampType: integer (nullable = true)\n",
      "\n"
     ]
    }
   ],
   "source": [
    "kafkaDf.printSchema()"
   ]
  },
  {
   "cell_type": "code",
   "execution_count": null,
   "id": "93236bfe-80f5-46fc-a9e4-68510ce68114",
   "metadata": {},
   "outputs": [],
   "source": [
    "# echoOnconsole =kafkaDf\\\n",
    "#                 .writeStream\\\n",
    "#                 .outputMode(\"update\")\\\n",
    "#                 .format(\"console\")\\\n",
    "#                 .option(\"truncate\", False)\\\n",
    "#                 .start() # start the query. spark will subscribe for data"
   ]
  },
  {
   "cell_type": "code",
   "execution_count": 7,
   "id": "fc792f8a-8895-4974-ba4b-be2a077904fc",
   "metadata": {},
   "outputs": [
    {
     "name": "stdout",
     "output_type": "stream",
     "text": [
      "root\n",
      " |-- value: string (nullable = true)\n",
      " |-- timestamp: timestamp (nullable = true)\n",
      "\n"
     ]
    }
   ],
   "source": [
    "ticksDf = kafkaDf.selectExpr(\"CAST(value AS STRING)\", \"timestamp\")\n",
    "ticksDf.printSchema() # we get only value as string"
   ]
  },
  {
   "cell_type": "code",
   "execution_count": null,
   "id": "ec443120-da0e-4849-87df-93626d319491",
   "metadata": {},
   "outputs": [],
   "source": [
    "# echoOnconsole =kafkaDf\\\n",
    "#                 .writeStream\\\n",
    "#                 .outputMode(\"update\")\\\n",
    "#                 .format(\"console\")\\\n",
    "#                 .option(\"truncate\", False)\\\n",
    "#                 .start() # start the query. spark will subscribe for data\n"
   ]
  },
  {
   "cell_type": "code",
   "execution_count": 8,
   "id": "51f4f4c3-ebd9-44d2-8187-00482ce157b1",
   "metadata": {},
   "outputs": [],
   "source": [
    "import pyspark.sql.functions as F\n",
    "from pyspark.sql.types import StructField, StructType, DoubleType, StringType, LongType, TimestampType,IntegerType\n",
    "\n",
    "schema = StructType( [\n",
    "    StructField(\"Order_id\", IntegerType(), True),\n",
    "    StructField(\"Item_id\", StringType(), True),\n",
    "    StructField(\"Quantity\", IntegerType(), True),\n",
    "    StructField(\"Price\", IntegerType(),  True),\n",
    "    StructField(\"State\",StringType(), True),\n",
    "    StructField(\"timestamp\", LongType(),  True)\n",
    "])"
   ]
  },
  {
   "cell_type": "code",
   "execution_count": 9,
   "id": "b8cca459-88a6-4208-a406-b3b8f9efd752",
   "metadata": {},
   "outputs": [
    {
     "name": "stdout",
     "output_type": "stream",
     "text": [
      "root\n",
      " |-- value: struct (nullable = true)\n",
      " |    |-- Order_id: integer (nullable = true)\n",
      " |    |-- Item_id: string (nullable = true)\n",
      " |    |-- Quantity: integer (nullable = true)\n",
      " |    |-- Price: integer (nullable = true)\n",
      " |    |-- State: string (nullable = true)\n",
      " |    |-- timestamp: long (nullable = true)\n",
      " |-- timestamp: timestamp (nullable = true)\n",
      "\n"
     ]
    }
   ],
   "source": [
    "jsonDf = ticksDf.withColumn(\"value\", F.from_json(\"value\", schema))\n",
    "jsonDf.printSchema()"
   ]
  },
  {
   "cell_type": "code",
   "execution_count": 10,
   "id": "25bb4231-608d-47a6-9ea3-397a8d9f4006",
   "metadata": {},
   "outputs": [
    {
     "name": "stdout",
     "output_type": "stream",
     "text": [
      "root\n",
      " |-- Order_id: integer (nullable = true)\n",
      " |-- Item_id: string (nullable = true)\n",
      " |-- Quantity: integer (nullable = true)\n",
      " |-- Price: integer (nullable = true)\n",
      " |-- State: string (nullable = true)\n",
      " |-- timestamp: long (nullable = true)\n",
      "\n"
     ]
    }
   ],
   "source": [
    "stockTickDf = jsonDf.select (F.col(\"value.*\")) # extract all sub fields as schema\n",
    "stockTickDf.printSchema()"
   ]
  },
  {
   "cell_type": "code",
   "execution_count": null,
   "id": "078c6cc0-314f-44cd-9ca5-836255b44433",
   "metadata": {
    "scrolled": true,
    "tags": []
   },
   "outputs": [],
   "source": [
    "echoOnconsole =stockTickDf\\\n",
    "                .writeStream\\\n",
    "                .outputMode(\"update\")\\\n",
    "                .format(\"console\")\\\n",
    "                .option(\"truncate\", False)\\\n",
    "                .start() # start the query. spark will subscribe for data"
   ]
  },
  {
   "cell_type": "code",
   "execution_count": 11,
   "id": "e6ace9f6-5ab9-4cf8-b5d9-52622c7d2dc4",
   "metadata": {
    "scrolled": true,
    "tags": []
   },
   "outputs": [
    {
     "name": "stdout",
     "output_type": "stream",
     "text": [
      "root\n",
      " |-- Order_id: integer (nullable = true)\n",
      " |-- Item_id: string (nullable = true)\n",
      " |-- Quantity: integer (nullable = true)\n",
      " |-- Price: integer (nullable = true)\n",
      " |-- State: string (nullable = true)\n",
      " |-- timestamp: long (nullable = true)\n",
      " |-- Amount: integer (nullable = true)\n",
      "\n"
     ]
    }
   ],
   "source": [
    "ordersDf = stockTickDf.withColumn(\"Amount\", F.col(\"Price\") * F.col(\"Quantity\"))\n",
    "ordersDf.printSchema()"
   ]
  },
  {
   "cell_type": "code",
   "execution_count": 12,
   "id": "776d188d-4aa5-4346-8fe5-0aacb16bab5f",
   "metadata": {
    "scrolled": true,
    "tags": []
   },
   "outputs": [],
   "source": [
    "orderTickDf = ordersDf\\\n",
    "                .withColumn(\"timestampTemp\", (F.col(\"timestamp\") / 1000).cast(\"timestamp\"))\\\n",
    "                .withColumn(\"trade_time\", F.date_trunc(\"minute\", F.col(\"timestampTemp\")))\\\n",
    "                .drop(\"timestamp\")\\\n",
    "                .drop(\"timestampTemp\")\\\n",
    "                .withColumnRenamed(\"trade_time\", \"timestamp\")"
   ]
  },
  {
   "cell_type": "code",
   "execution_count": null,
   "id": "89e2ffe6-91fc-49d0-adf5-f3e10e9bf6cb",
   "metadata": {
    "scrolled": true,
    "tags": []
   },
   "outputs": [],
   "source": [
    "echoOnconsole = orderTickDf\\\n",
    "                .writeStream\\\n",
    "                .outputMode(\"update\")\\\n",
    "                .format(\"console\")\\\n",
    "                .option(\"truncate\", False)\\\n",
    "                .start() # start the query. spark will subscribe for data"
   ]
  },
  {
   "cell_type": "code",
   "execution_count": 13,
   "id": "e79142f1-c95d-4e14-9a4b-a7924f8f2492",
   "metadata": {
    "scrolled": true,
    "tags": []
   },
   "outputs": [
    {
     "name": "stdout",
     "output_type": "stream",
     "text": [
      "root\n",
      " |-- State: string (nullable = true)\n",
      " |-- window: struct (nullable = false)\n",
      " |    |-- start: timestamp (nullable = true)\n",
      " |    |-- end: timestamp (nullable = true)\n",
      " |-- Total_amount: long (nullable = true)\n",
      "\n"
     ]
    }
   ],
   "source": [
    "order5minDf = orderTickDf.withWatermark(\"timestamp\",\"1 minute\").groupBy(\"State\",F.window(\"timestamp\",\"5 minutes\")).agg(F.sum(\"Amount\").alias(\"Total_amount\"))\n",
    "                    \n",
    "order5minDf.printSchema()"
   ]
  },
  {
   "cell_type": "code",
   "execution_count": null,
   "id": "52089145-b5d7-4d78-9fec-b5aa42374610",
   "metadata": {
    "scrolled": true,
    "tags": []
   },
   "outputs": [],
   "source": []
  },
  {
   "cell_type": "code",
   "execution_count": null,
   "id": "d101b843-c870-487e-a158-64c45701be38",
   "metadata": {
    "scrolled": true,
    "tags": []
   },
   "outputs": [],
   "source": [
    "## Converting back to kafka writable format\n",
    "order5minDfKafka = order5minDf\\\n",
    "                            .selectExpr(\"to_json(struct(*)) AS value\")\n"
   ]
  },
  {
   "cell_type": "code",
   "execution_count": null,
   "id": "9a2ef7c3-bca7-4bdc-a228-8d38e883dad5",
   "metadata": {},
   "outputs": [],
   "source": []
  },
  {
   "cell_type": "code",
   "execution_count": null,
   "id": "e4ad3ee0-328a-4ca0-bfc3-a6e6fcfd08e3",
   "metadata": {
    "scrolled": true,
    "tags": []
   },
   "outputs": [],
   "source": [
    "echoOnconsole =order5minDfKafka\\\n",
    "                .writeStream\\\n",
    "                .outputMode(\"update\")\\\n",
    "                .format(\"console\")\\\n",
    "                .option(\"truncate\", False)\\\n",
    "                .start() # start the query. spark will subscribe for data"
   ]
  },
  {
   "cell_type": "code",
   "execution_count": null,
   "id": "33238d65-9527-4f1b-97c5-60284c6752db",
   "metadata": {
    "scrolled": true,
    "tags": []
   },
   "outputs": [],
   "source": [
    "order5minDfKafka \\\n",
    "            .writeStream\\\n",
    "             .format(\"kafka\")\\\n",
    "            .outputMode(\"update\")\\\n",
    "             .option(\"kafka.bootstrap.servers\", \"localhost:9092\")\\\n",
    "            .option(\"topic\", \"orders-5min\")\\\n",
    "            .option(\"checkpointLocation\", \"file:///tmp/spark3\")\\\n",
    "            .start()"
   ]
  },
  {
   "cell_type": "code",
   "execution_count": 15,
   "id": "56f26c7b-e953-4983-84a0-acc6b5307f2b",
   "metadata": {},
   "outputs": [
    {
     "name": "stderr",
     "output_type": "stream",
     "text": [
      "22/04/01 02:03:53 WARN StreamingQueryManager: Temporary checkpoint location created which is deleted normally when the query didn't fail: /tmp/temporary-67af7eda-b6e4-4072-86f5-60c2fd9d8fbf. If it's required to delete it under any circumstances, please set spark.sql.streaming.forceDeleteTempCheckpointLocation to true. Important to know deleting temp checkpoint folder is best effort.\n"
     ]
    },
    {
     "data": {
      "text/plain": [
       "<pyspark.sql.streaming.StreamingQuery at 0x7fcf200edc90>"
      ]
     },
     "execution_count": 15,
     "metadata": {},
     "output_type": "execute_result"
    },
    {
     "name": "stdout",
     "output_type": "stream",
     "text": [
      "process batch called 0 writing  0\n"
     ]
    }
   ],
   "source": [
    " # spark stream with batch output\n",
    "# spark basically process the data as batch\n",
    "# for developer convinence, we have api, that can give us finite data frame for writing to file/jsbc/db/custom coding\n",
    "# process discrete output batch\n",
    "# this function is called for every update/delete/comlete triggers with result data set as dataframe\n",
    "# candleBatchDf is BATCH DATAFRAME\n",
    "# stockTickDf1Min is STREAM DATAFRAME\n",
    "def processBatchData(candleBatchDf, batch_id):\n",
    "    print (\"process batch called\", batch_id, \"writing \", candleBatchDf.count())\n",
    "    # result = candleBatchDf.collect()\n",
    "    # print(result)\n",
    "    # candleBatchDf.show(2)\n",
    "    # write to csv/json/parqeut/database /jdbc etc\n",
    "    # window is nested column, has its children columns called start and end\n",
    "    # start and end are part of nested window column\n",
    "    # append mode will not delete existin data, instead append to existing table\n",
    "    (\n",
    "     candleBatchDf\n",
    "        .select('*', F.col(\"window.*\"))\n",
    "        .withColumnRenamed(\"start\", \"start_time\")\n",
    "        .withColumnRenamed(\"end\", \"end_time\")\n",
    "        .drop(\"window\")\n",
    "        .write\n",
    "        .mode(\"append\")\n",
    "        .format(\"jdbc\")\n",
    "        .option(\"url\", \"jdbc:mysql://localhost:3306/stockdb?autoReconnect=true&useSSL=false&allowPublicKeyRetrieval=true\")\n",
    "        .option(\"driver\", \"com.mysql.jdbc.Driver\")\n",
    "        .option(\"user\", \"team\")\n",
    "        .option(\"password\", \"Team1234!\")\n",
    "        .option(\"dbtable\", \"statewise_earning\")\n",
    "         .save()\n",
    "    )\n",
    "    \n",
    "order5minDf.writeStream.outputMode(\"update\").foreachBatch(processBatchData).start()"
   ]
  },
  {
   "cell_type": "code",
   "execution_count": null,
   "id": "2367adbb-17eb-4849-93f4-8ace9562ed4d",
   "metadata": {},
   "outputs": [],
   "source": []
  }
 ],
 "metadata": {
  "kernelspec": {
   "display_name": "Python 3 (ipykernel)",
   "language": "python",
   "name": "python3"
  },
  "language_info": {
   "codemirror_mode": {
    "name": "ipython",
    "version": 3
   },
   "file_extension": ".py",
   "mimetype": "text/x-python",
   "name": "python",
   "nbconvert_exporter": "python",
   "pygments_lexer": "ipython3",
   "version": "3.7.12"
  }
 },
 "nbformat": 4,
 "nbformat_minor": 5
}
