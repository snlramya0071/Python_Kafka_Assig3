{
 "cells": [
  {
   "cell_type": "code",
   "execution_count": 1,
   "id": "377512e7-1d74-422e-a8a3-9fb6d5ebf333",
   "metadata": {},
   "outputs": [],
   "source": [
    "import os\n",
    "# save using vs code\n",
    "SCALA_VERSION = '2.12'\n",
    "SPARK_VERSION = '3.1.3'\n",
    "# Download Kafka Jar file, this for readStream.format(\"kafka\"), \"kafka\" is a driver\n",
    "# kafka driver code is part of Maven Jar file\n",
    "# https://mvnrepository.com/artifact/org.apache.spark/spark-sql-kafka-0-10_2.12/3.1.3\n",
    "# pyspark-shell shall download the jar file behind..\n",
    "os.environ['PYSPARK_SUBMIT_ARGS'] = f'--packages org.apache.spark:spark-sql-kafka-0-10_{SCALA_VERSION}:{SPARK_VERSION} pyspark-shell'"
   ]
  },
  {
   "cell_type": "code",
   "execution_count": 2,
   "id": "de983084-e9d1-4cac-97fc-ee553ef7036d",
   "metadata": {},
   "outputs": [],
   "source": [
    "import findspark\n",
    "findspark.init()"
   ]
  },
  {
   "cell_type": "code",
   "execution_count": 3,
   "id": "a9928372-21e6-475a-b05c-e6020e38502b",
   "metadata": {},
   "outputs": [
    {
     "name": "stderr",
     "output_type": "stream",
     "text": [
      "22/04/01 02:24:32 WARN Utils: Your hostname, ubuntu-virtual-machine resolves to a loopback address: 127.0.1.1; using 192.168.80.128 instead (on interface ens33)\n",
      "22/04/01 02:24:32 WARN Utils: Set SPARK_LOCAL_IP if you need to bind to another address\n"
     ]
    },
    {
     "name": "stdout",
     "output_type": "stream",
     "text": [
      ":: loading settings :: url = jar:file:/opt/spark-3.1.3-bin-hadoop2.7/jars/ivy-2.4.0.jar!/org/apache/ivy/core/settings/ivysettings.xml\n"
     ]
    },
    {
     "name": "stderr",
     "output_type": "stream",
     "text": [
      "Ivy Default Cache set to: /home/ubuntu/.ivy2/cache\n",
      "The jars for the packages stored in: /home/ubuntu/.ivy2/jars\n",
      "org.apache.spark#spark-sql-kafka-0-10_2.12 added as a dependency\n",
      ":: resolving dependencies :: org.apache.spark#spark-submit-parent-100c6ddf-5e48-438b-90c5-2bd2e4b7d3cb;1.0\n",
      "\tconfs: [default]\n",
      "\tfound org.apache.spark#spark-sql-kafka-0-10_2.12;3.1.3 in central\n",
      "\tfound org.apache.spark#spark-token-provider-kafka-0-10_2.12;3.1.3 in central\n",
      "\tfound org.apache.kafka#kafka-clients;2.6.0 in central\n",
      "\tfound com.github.luben#zstd-jni;1.4.8-1 in central\n",
      "\tfound org.lz4#lz4-java;1.7.1 in central\n",
      "\tfound org.xerial.snappy#snappy-java;1.1.8.2 in central\n",
      "\tfound org.slf4j#slf4j-api;1.7.30 in central\n",
      "\tfound org.spark-project.spark#unused;1.0.0 in central\n",
      "\tfound org.apache.commons#commons-pool2;2.6.2 in central\n",
      ":: resolution report :: resolve 600ms :: artifacts dl 10ms\n",
      "\t:: modules in use:\n",
      "\tcom.github.luben#zstd-jni;1.4.8-1 from central in [default]\n",
      "\torg.apache.commons#commons-pool2;2.6.2 from central in [default]\n",
      "\torg.apache.kafka#kafka-clients;2.6.0 from central in [default]\n",
      "\torg.apache.spark#spark-sql-kafka-0-10_2.12;3.1.3 from central in [default]\n",
      "\torg.apache.spark#spark-token-provider-kafka-0-10_2.12;3.1.3 from central in [default]\n",
      "\torg.lz4#lz4-java;1.7.1 from central in [default]\n",
      "\torg.slf4j#slf4j-api;1.7.30 from central in [default]\n",
      "\torg.spark-project.spark#unused;1.0.0 from central in [default]\n",
      "\torg.xerial.snappy#snappy-java;1.1.8.2 from central in [default]\n",
      "\t---------------------------------------------------------------------\n",
      "\t|                  |            modules            ||   artifacts   |\n",
      "\t|       conf       | number| search|dwnlded|evicted|| number|dwnlded|\n",
      "\t---------------------------------------------------------------------\n",
      "\t|      default     |   9   |   0   |   0   |   0   ||   9   |   0   |\n",
      "\t---------------------------------------------------------------------\n",
      ":: retrieving :: org.apache.spark#spark-submit-parent-100c6ddf-5e48-438b-90c5-2bd2e4b7d3cb\n",
      "\tconfs: [default]\n",
      "\t0 artifacts copied, 9 already retrieved (0kB/11ms)\n",
      "22/04/01 02:24:34 WARN NativeCodeLoader: Unable to load native-hadoop library for your platform... using builtin-java classes where applicable\n",
      "Using Spark's default log4j profile: org/apache/spark/log4j-defaults.properties\n",
      "Setting default log level to \"WARN\".\n",
      "To adjust logging level use sc.setLogLevel(newLevel). For SparkR, use setLogLevel(newLevel).\n"
     ]
    }
   ],
   "source": [
    "import pyspark\n",
    "\n",
    "\n",
    "from pyspark.sql import SparkSession\n",
    "# spark groupBy has default setting for spark.sql.shuffle.partitions as 200\n",
    "# we set to  4, should NOT be done in production \n",
    "spark = SparkSession.builder.master(\"local[1]\")\\\n",
    "                            .config('spark.sql.shuffle.partitions', 4)\\\n",
    "                            .appName(\"SparkStreamingKafkaCandlesA4\").getOrCreate()"
   ]
  },
  {
   "cell_type": "code",
   "execution_count": 4,
   "id": "e5a0c179-5ffc-414d-97fc-98034b01d390",
   "metadata": {},
   "outputs": [],
   "source": [
    "\n",
    "kafkaDf = spark.readStream.format(\"kafka\")\\\n",
    "  .option(\"kafka.bootstrap.servers\", \"localhost:9092\")\\\n",
    "  .option(\"subscribe\", \"orders\")\\\n",
    "  .option(\"group.id\", \"orders-group-rm\")\\\n",
    "  .load()"
   ]
  },
  {
   "cell_type": "code",
   "execution_count": 5,
   "id": "ec99989e-1a2d-45ca-8206-aeff4de4562a",
   "metadata": {},
   "outputs": [
    {
     "name": "stdout",
     "output_type": "stream",
     "text": [
      "root\n",
      " |-- key: binary (nullable = true)\n",
      " |-- value: binary (nullable = true)\n",
      " |-- topic: string (nullable = true)\n",
      " |-- partition: integer (nullable = true)\n",
      " |-- offset: long (nullable = true)\n",
      " |-- timestamp: timestamp (nullable = true)\n",
      " |-- timestampType: integer (nullable = true)\n",
      "\n"
     ]
    }
   ],
   "source": [
    "kafkaDf.printSchema()"
   ]
  },
  {
   "cell_type": "code",
   "execution_count": 6,
   "id": "93236bfe-80f5-46fc-a9e4-68510ce68114",
   "metadata": {},
   "outputs": [],
   "source": [
    "# echoOnconsole =kafkaDf\\\n",
    "#                 .writeStream\\\n",
    "#                 .outputMode(\"update\")\\\n",
    "#                 .format(\"console\")\\\n",
    "#                 .option(\"truncate\", False)\\\n",
    "#                 .start() # start the query. spark will subscribe for data"
   ]
  },
  {
   "cell_type": "code",
   "execution_count": 6,
   "id": "fc792f8a-8895-4974-ba4b-be2a077904fc",
   "metadata": {},
   "outputs": [
    {
     "name": "stdout",
     "output_type": "stream",
     "text": [
      "root\n",
      " |-- value: string (nullable = true)\n",
      " |-- timestamp: timestamp (nullable = true)\n",
      "\n"
     ]
    }
   ],
   "source": [
    "ticksDf = kafkaDf.selectExpr(\"CAST(value AS STRING)\", \"timestamp\")\n",
    "ticksDf.printSchema() # we get only value as string"
   ]
  },
  {
   "cell_type": "code",
   "execution_count": 8,
   "id": "ec443120-da0e-4849-87df-93626d319491",
   "metadata": {},
   "outputs": [],
   "source": [
    "# echoOnconsole =kafkaDf\\\n",
    "#                 .writeStream\\\n",
    "#                 .outputMode(\"update\")\\\n",
    "#                 .format(\"console\")\\\n",
    "#                 .option(\"truncate\", False)\\\n",
    "#                 .start() # start the query. spark will subscribe for data\n"
   ]
  },
  {
   "cell_type": "code",
   "execution_count": 7,
   "id": "51f4f4c3-ebd9-44d2-8187-00482ce157b1",
   "metadata": {},
   "outputs": [],
   "source": [
    "import pyspark.sql.functions as F\n",
    "from pyspark.sql.types import StructField, StructType, DoubleType, StringType, LongType, TimestampType,IntegerType\n",
    "\n",
    "schema = StructType( [\n",
    "    StructField(\"Order_id\", IntegerType(), True),\n",
    "    StructField(\"Item_id\", StringType(), True),\n",
    "    StructField(\"Quantity\", IntegerType(), True),\n",
    "    StructField(\"Price\", IntegerType(),  True),\n",
    "    StructField(\"State\",StringType(), True),\n",
    "    StructField(\"timestamp\", LongType(),  True)\n",
    "])"
   ]
  },
  {
   "cell_type": "code",
   "execution_count": 8,
   "id": "b8cca459-88a6-4208-a406-b3b8f9efd752",
   "metadata": {},
   "outputs": [
    {
     "name": "stdout",
     "output_type": "stream",
     "text": [
      "root\n",
      " |-- value: struct (nullable = true)\n",
      " |    |-- Order_id: integer (nullable = true)\n",
      " |    |-- Item_id: string (nullable = true)\n",
      " |    |-- Quantity: integer (nullable = true)\n",
      " |    |-- Price: integer (nullable = true)\n",
      " |    |-- State: string (nullable = true)\n",
      " |    |-- timestamp: long (nullable = true)\n",
      " |-- timestamp: timestamp (nullable = true)\n",
      "\n"
     ]
    }
   ],
   "source": [
    "jsonDf = ticksDf.withColumn(\"value\", F.from_json(\"value\", schema))\n",
    "jsonDf.printSchema()"
   ]
  },
  {
   "cell_type": "code",
   "execution_count": 9,
   "id": "25bb4231-608d-47a6-9ea3-397a8d9f4006",
   "metadata": {},
   "outputs": [
    {
     "name": "stdout",
     "output_type": "stream",
     "text": [
      "root\n",
      " |-- Order_id: integer (nullable = true)\n",
      " |-- Item_id: string (nullable = true)\n",
      " |-- Quantity: integer (nullable = true)\n",
      " |-- Price: integer (nullable = true)\n",
      " |-- State: string (nullable = true)\n",
      " |-- timestamp: long (nullable = true)\n",
      "\n"
     ]
    }
   ],
   "source": [
    "stockTickDf = jsonDf.select (F.col(\"value.*\")) # extract all sub fields as schema\n",
    "stockTickDf.printSchema()"
   ]
  },
  {
   "cell_type": "code",
   "execution_count": 12,
   "id": "078c6cc0-314f-44cd-9ca5-836255b44433",
   "metadata": {
    "scrolled": true,
    "tags": []
   },
   "outputs": [
    {
     "name": "stderr",
     "output_type": "stream",
     "text": [
      "22/04/01 00:39:52 WARN StreamingQueryManager: Temporary checkpoint location created which is deleted normally when the query didn't fail: /tmp/temporary-09fc42c6-eb03-4a42-a911-f7933d382db1. If it's required to delete it under any circumstances, please set spark.sql.streaming.forceDeleteTempCheckpointLocation to true. Important to know deleting temp checkpoint folder is best effort.\n"
     ]
    },
    {
     "name": "stdout",
     "output_type": "stream",
     "text": [
      "-------------------------------------------\n",
      "Batch: 0\n",
      "-------------------------------------------\n",
      "+--------+-------+--------+-----+-----+---------+\n",
      "|Order_id|Item_id|Quantity|Price|State|timestamp|\n",
      "+--------+-------+--------+-----+-----+---------+\n",
      "+--------+-------+--------+-----+-----+---------+\n",
      "\n"
     ]
    },
    {
     "name": "stderr",
     "output_type": "stream",
     "text": [
      "                                                                                \r"
     ]
    },
    {
     "name": "stdout",
     "output_type": "stream",
     "text": [
      "-------------------------------------------\n",
      "Batch: 1\n",
      "-------------------------------------------\n",
      "+--------+-------+--------+-----+-----+-------------+\n",
      "|Order_id|Item_id|Quantity|Price|State|timestamp    |\n",
      "+--------+-------+--------+-----+-----+-------------+\n",
      "|65020   |58     |2       |45   |KY   |1648753793624|\n",
      "|51105   |2      |7       |8    |KY   |1648753793624|\n",
      "|25489   |16     |6       |27   |KY   |1648753793624|\n",
      "|35588   |13     |4       |3    |KY   |1648753793624|\n",
      "|44610   |33     |7       |18   |KY   |1648753793624|\n",
      "|27531   |15     |5       |41   |KY   |1648753793624|\n",
      "|11973   |28     |8       |20   |KY   |1648753793624|\n",
      "|40702   |11     |2       |30   |KY   |1648753793624|\n",
      "|64118   |6      |7       |6    |KY   |1648753793624|\n",
      "+--------+-------+--------+-----+-----+-------------+\n",
      "\n"
     ]
    },
    {
     "name": "stderr",
     "output_type": "stream",
     "text": [
      "                                                                                \r"
     ]
    },
    {
     "name": "stdout",
     "output_type": "stream",
     "text": [
      "-------------------------------------------\n",
      "Batch: 2\n",
      "-------------------------------------------\n",
      "+--------+-------+--------+-----+-----+-------------+\n",
      "|Order_id|Item_id|Quantity|Price|State|timestamp    |\n",
      "+--------+-------+--------+-----+-----+-------------+\n",
      "|21695   |62     |5       |40   |ME   |1648753798628|\n",
      "|3390    |54     |5       |7    |ME   |1648753798628|\n",
      "|58702   |61     |10      |45   |ME   |1648753798628|\n",
      "|98556   |98     |2       |33   |ME   |1648753798628|\n",
      "|28971   |33     |3       |20   |ME   |1648753798628|\n",
      "|86792   |90     |10      |13   |ME   |1648753798628|\n",
      "|25677   |21     |5       |37   |ME   |1648753798628|\n",
      "|24676   |93     |6       |50   |ME   |1648753798628|\n",
      "+--------+-------+--------+-----+-----+-------------+\n",
      "\n",
      "-------------------------------------------\n",
      "Batch: 3\n",
      "-------------------------------------------\n",
      "+--------+-------+--------+-----+-----+-------------+\n",
      "|Order_id|Item_id|Quantity|Price|State|timestamp    |\n",
      "+--------+-------+--------+-----+-----+-------------+\n",
      "|37060   |73     |1       |26   |KS   |1648753803632|\n",
      "|3873    |7      |9       |40   |KS   |1648753803632|\n",
      "|15175   |83     |2       |14   |KS   |1648753803632|\n",
      "|11361   |62     |4       |36   |KS   |1648753803632|\n",
      "|71182   |68     |3       |21   |KS   |1648753803632|\n",
      "+--------+-------+--------+-----+-----+-------------+\n",
      "\n",
      "-------------------------------------------\n",
      "Batch: 4\n",
      "-------------------------------------------\n",
      "+--------+-------+--------+-----+-----+-------------+\n",
      "|Order_id|Item_id|Quantity|Price|State|timestamp    |\n",
      "+--------+-------+--------+-----+-----+-------------+\n",
      "|58691   |56     |7       |2    |FL   |1648753808635|\n",
      "|18193   |41     |4       |9    |FL   |1648753808635|\n",
      "|84001   |81     |2       |23   |FL   |1648753808635|\n",
      "+--------+-------+--------+-----+-----+-------------+\n",
      "\n",
      "-------------------------------------------\n",
      "Batch: 5\n",
      "-------------------------------------------\n",
      "+--------+-------+--------+-----+-----+-------------+\n",
      "|Order_id|Item_id|Quantity|Price|State|timestamp    |\n",
      "+--------+-------+--------+-----+-----+-------------+\n",
      "|7613    |62     |7       |11   |FL   |1648753813639|\n",
      "|22457   |64     |8       |6    |FL   |1648753813639|\n",
      "|81092   |28     |9       |36   |FL   |1648753813639|\n",
      "|74607   |20     |2       |41   |FL   |1648753813639|\n",
      "|2746    |45     |6       |11   |FL   |1648753813639|\n",
      "|76926   |52     |10      |41   |FL   |1648753813639|\n",
      "+--------+-------+--------+-----+-----+-------------+\n",
      "\n"
     ]
    }
   ],
   "source": [
    "echoOnconsole =stockTickDf\\\n",
    "                .writeStream\\\n",
    "                .outputMode(\"update\")\\\n",
    "                .format(\"console\")\\\n",
    "                .option(\"truncate\", False)\\\n",
    "                .start() # start the query. spark will subscribe for data"
   ]
  },
  {
   "cell_type": "code",
   "execution_count": 10,
   "id": "e6ace9f6-5ab9-4cf8-b5d9-52622c7d2dc4",
   "metadata": {
    "scrolled": true,
    "tags": []
   },
   "outputs": [
    {
     "name": "stdout",
     "output_type": "stream",
     "text": [
      "root\n",
      " |-- Order_id: integer (nullable = true)\n",
      " |-- Item_id: string (nullable = true)\n",
      " |-- Quantity: integer (nullable = true)\n",
      " |-- Price: integer (nullable = true)\n",
      " |-- State: string (nullable = true)\n",
      " |-- timestamp: long (nullable = true)\n",
      " |-- Amount: integer (nullable = true)\n",
      "\n"
     ]
    }
   ],
   "source": [
    "ordersDf = stockTickDf.withColumn(\"Amount\", F.col(\"Price\") * F.col(\"Quantity\"))\n",
    "ordersDf.printSchema()"
   ]
  },
  {
   "cell_type": "code",
   "execution_count": 11,
   "id": "776d188d-4aa5-4346-8fe5-0aacb16bab5f",
   "metadata": {
    "scrolled": true,
    "tags": []
   },
   "outputs": [],
   "source": [
    "orderTickDf = ordersDf\\\n",
    "                .withColumn(\"timestampTemp\", (F.col(\"timestamp\") / 1000).cast(\"timestamp\"))\\\n",
    "                .withColumn(\"trade_time\", F.date_trunc(\"minute\", F.col(\"timestampTemp\")))\\\n",
    "                .drop(\"timestamp\")\\\n",
    "                .drop(\"timestampTemp\")\\\n",
    "                .withColumnRenamed(\"trade_time\", \"timestamp\")"
   ]
  },
  {
   "cell_type": "code",
   "execution_count": 15,
   "id": "89e2ffe6-91fc-49d0-adf5-f3e10e9bf6cb",
   "metadata": {
    "scrolled": true,
    "tags": []
   },
   "outputs": [
    {
     "name": "stderr",
     "output_type": "stream",
     "text": [
      "22/04/01 00:41:25 WARN StreamingQueryManager: Temporary checkpoint location created which is deleted normally when the query didn't fail: /tmp/temporary-4cbdafc4-8112-43d9-a1a0-4ac96bbb0711. If it's required to delete it under any circumstances, please set spark.sql.streaming.forceDeleteTempCheckpointLocation to true. Important to know deleting temp checkpoint folder is best effort.\n"
     ]
    },
    {
     "name": "stdout",
     "output_type": "stream",
     "text": [
      "-------------------------------------------\n",
      "Batch: 0\n",
      "-------------------------------------------\n",
      "+--------+-------+--------+-----+-----+------+---------+\n",
      "|Order_id|Item_id|Quantity|Price|State|Amount|timestamp|\n",
      "+--------+-------+--------+-----+-----+------+---------+\n",
      "+--------+-------+--------+-----+-----+------+---------+\n",
      "\n",
      "-------------------------------------------\n",
      "Batch: 20\n",
      "-------------------------------------------\n",
      "+--------+-------+--------+-----+-----+-------------+\n",
      "|Order_id|Item_id|Quantity|Price|State|timestamp    |\n",
      "+--------+-------+--------+-----+-----+-------------+\n",
      "|76028   |40     |10      |12   |AZ   |1648753888715|\n",
      "|11739   |81     |1       |45   |AZ   |1648753888715|\n",
      "|71628   |89     |1       |41   |AZ   |1648753888715|\n",
      "+--------+-------+--------+-----+-----+-------------+\n",
      "\n"
     ]
    },
    {
     "name": "stderr",
     "output_type": "stream",
     "text": [
      "                                                                                \r"
     ]
    },
    {
     "name": "stdout",
     "output_type": "stream",
     "text": [
      "-------------------------------------------\n",
      "Batch: 1\n",
      "-------------------------------------------\n",
      "+--------+-------+--------+-----+-----+------+-------------------+\n",
      "|Order_id|Item_id|Quantity|Price|State|Amount|timestamp          |\n",
      "+--------+-------+--------+-----+-----+------+-------------------+\n",
      "|76028   |40     |10      |12   |AZ   |120   |2022-04-01 00:41:00|\n",
      "|11739   |81     |1       |45   |AZ   |45    |2022-04-01 00:41:00|\n",
      "|71628   |89     |1       |41   |AZ   |41    |2022-04-01 00:41:00|\n",
      "+--------+-------+--------+-----+-----+------+-------------------+\n",
      "\n"
     ]
    }
   ],
   "source": [
    "echoOnconsole = orderTickDf\\\n",
    "                .writeStream\\\n",
    "                .outputMode(\"update\")\\\n",
    "                .format(\"console\")\\\n",
    "                .option(\"truncate\", False)\\\n",
    "                .start() # start the query. spark will subscribe for data"
   ]
  },
  {
   "cell_type": "code",
   "execution_count": 12,
   "id": "e79142f1-c95d-4e14-9a4b-a7924f8f2492",
   "metadata": {
    "scrolled": true,
    "tags": []
   },
   "outputs": [
    {
     "name": "stdout",
     "output_type": "stream",
     "text": [
      "root\n",
      " |-- State: string (nullable = true)\n",
      " |-- window: struct (nullable = false)\n",
      " |    |-- start: timestamp (nullable = true)\n",
      " |    |-- end: timestamp (nullable = true)\n",
      " |-- Total_amount: long (nullable = true)\n",
      "\n"
     ]
    }
   ],
   "source": [
    "order5minDf = orderTickDf.withWatermark(\"timestamp\",\"1 minute\").groupBy(\"State\",F.window(\"timestamp\",\"5 minutes\")).agg(F.sum(\"Amount\").alias(\"Total_amount\"))\n",
    "                    \n",
    "order5minDf.printSchema()"
   ]
  },
  {
   "cell_type": "code",
   "execution_count": 13,
   "id": "d101b843-c870-487e-a158-64c45701be38",
   "metadata": {
    "scrolled": true,
    "tags": []
   },
   "outputs": [],
   "source": [
    "## Converting back to kafka writable format\n",
    "order5minDfKafka = order5minDf\\\n",
    "                            .selectExpr(\"to_json(struct(*)) AS value\")\n"
   ]
  },
  {
   "cell_type": "code",
   "execution_count": 18,
   "id": "e4ad3ee0-328a-4ca0-bfc3-a6e6fcfd08e3",
   "metadata": {
    "scrolled": true,
    "tags": []
   },
   "outputs": [
    {
     "name": "stderr",
     "output_type": "stream",
     "text": [
      "22/04/01 00:42:09 WARN StreamingQueryManager: Temporary checkpoint location created which is deleted normally when the query didn't fail: /tmp/temporary-bfda4eb0-15c2-4125-8a9e-2f34c7b1782a. If it's required to delete it under any circumstances, please set spark.sql.streaming.forceDeleteTempCheckpointLocation to true. Important to know deleting temp checkpoint folder is best effort.\n"
     ]
    },
    {
     "name": "stdout",
     "output_type": "stream",
     "text": [
      "-------------------------------------------\n",
      "Batch: 9\n",
      "-------------------------------------------\n",
      "+--------+-------+--------+-----+-----+------+-------------------+\n",
      "|Order_id|Item_id|Quantity|Price|State|Amount|timestamp          |\n",
      "+--------+-------+--------+-----+-----+------+-------------------+\n",
      "|14653   |64     |4       |31   |ME   |124   |2022-04-01 00:42:00|\n",
      "|79663   |55     |8       |35   |ME   |280   |2022-04-01 00:42:00|\n",
      "|34156   |65     |4       |18   |ME   |72    |2022-04-01 00:42:00|\n",
      "|22682   |59     |4       |25   |ME   |100   |2022-04-01 00:42:00|\n",
      "|63108   |48     |9       |42   |ME   |378   |2022-04-01 00:42:00|\n",
      "|50786   |79     |4       |7    |ME   |28    |2022-04-01 00:42:00|\n",
      "|34040   |22     |3       |7    |ME   |21    |2022-04-01 00:42:00|\n",
      "+--------+-------+--------+-----+-----+------+-------------------+\n",
      "\n",
      "-------------------------------------------\n",
      "Batch: 0\n",
      "-------------------------------------------\n",
      "+-----+\n",
      "|value|\n",
      "+-----+\n",
      "+-----+\n",
      "\n",
      "-------------------------------------------\n",
      "Batch: 29\n",
      "-------------------------------------------\n",
      "+--------+-------+--------+-----+-----+-------------+\n",
      "|Order_id|Item_id|Quantity|Price|State|timestamp    |\n",
      "+--------+-------+--------+-----+-----+-------------+\n",
      "|92651   |20     |1       |3    |ME   |1648753933756|\n",
      "|22515   |89     |5       |8    |ME   |1648753933756|\n",
      "|24580   |68     |10      |44   |ME   |1648753933756|\n",
      "|48976   |6      |7       |7    |ME   |1648753933756|\n",
      "|9183    |23     |1       |29   |ME   |1648753933756|\n",
      "|78467   |17     |4       |21   |ME   |1648753933756|\n",
      "|27132   |64     |9       |21   |ME   |1648753933756|\n",
      "+--------+-------+--------+-----+-----+-------------+\n",
      "\n",
      "-------------------------------------------\n",
      "Batch: 10\n",
      "-------------------------------------------\n",
      "+--------+-------+--------+-----+-----+------+-------------------+\n",
      "|Order_id|Item_id|Quantity|Price|State|Amount|timestamp          |\n",
      "+--------+-------+--------+-----+-----+------+-------------------+\n",
      "|92651   |20     |1       |3    |ME   |3     |2022-04-01 00:42:00|\n",
      "|22515   |89     |5       |8    |ME   |40    |2022-04-01 00:42:00|\n",
      "|24580   |68     |10      |44   |ME   |440   |2022-04-01 00:42:00|\n",
      "|48976   |6      |7       |7    |ME   |49    |2022-04-01 00:42:00|\n",
      "|9183    |23     |1       |29   |ME   |29    |2022-04-01 00:42:00|\n",
      "|78467   |17     |4       |21   |ME   |84    |2022-04-01 00:42:00|\n",
      "|27132   |64     |9       |21   |ME   |189   |2022-04-01 00:42:00|\n",
      "+--------+-------+--------+-----+-----+------+-------------------+\n",
      "\n"
     ]
    },
    {
     "name": "stderr",
     "output_type": "stream",
     "text": [
      "                                                                                \r"
     ]
    },
    {
     "name": "stdout",
     "output_type": "stream",
     "text": [
      "-------------------------------------------\n",
      "Batch: 1\n",
      "-------------------------------------------\n",
      "+--------------------------------------------------------------------------------------------------------------------------+\n",
      "|value                                                                                                                     |\n",
      "+--------------------------------------------------------------------------------------------------------------------------+\n",
      "|{\"State\":\"ME\",\"window\":{\"start\":\"2022-04-01T00:40:00.000+05:30\",\"end\":\"2022-04-01T00:45:00.000+05:30\"},\"Total_amount\":834}|\n",
      "+--------------------------------------------------------------------------------------------------------------------------+\n",
      "\n",
      "-------------------------------------------\n",
      "Batch: 2\n",
      "-------------------------------------------\n",
      "+-----+\n",
      "|value|\n",
      "+-----+\n",
      "+-----+\n",
      "\n",
      "-------------------------------------------\n",
      "Batch: 30\n",
      "-------------------------------------------\n",
      "+--------+-------+--------+-----+-----+-------------+\n",
      "|Order_id|Item_id|Quantity|Price|State|timestamp    |\n",
      "+--------+-------+--------+-----+-----+-------------+\n",
      "|99530   |54     |2       |7    |KY   |1648753938761|\n",
      "|65209   |77     |9       |6    |KY   |1648753938761|\n",
      "|36452   |89     |3       |42   |KY   |1648753938761|\n",
      "|35347   |60     |10      |32   |KY   |1648753938761|\n",
      "|60451   |33     |9       |46   |KY   |1648753938761|\n",
      "|3148    |7      |9       |31   |KY   |1648753938761|\n",
      "|17601   |28     |1       |35   |KY   |1648753938761|\n",
      "+--------+-------+--------+-----+-----+-------------+\n",
      "\n",
      "-------------------------------------------\n",
      "Batch: 11\n",
      "-------------------------------------------\n",
      "+--------+-------+--------+-----+-----+------+-------------------+\n",
      "|Order_id|Item_id|Quantity|Price|State|Amount|timestamp          |\n",
      "+--------+-------+--------+-----+-----+------+-------------------+\n",
      "|99530   |54     |2       |7    |KY   |14    |2022-04-01 00:42:00|\n",
      "|65209   |77     |9       |6    |KY   |54    |2022-04-01 00:42:00|\n",
      "|36452   |89     |3       |42   |KY   |126   |2022-04-01 00:42:00|\n",
      "|35347   |60     |10      |32   |KY   |320   |2022-04-01 00:42:00|\n",
      "|60451   |33     |9       |46   |KY   |414   |2022-04-01 00:42:00|\n",
      "|3148    |7      |9       |31   |KY   |279   |2022-04-01 00:42:00|\n",
      "|17601   |28     |1       |35   |KY   |35    |2022-04-01 00:42:00|\n",
      "+--------+-------+--------+-----+-----+------+-------------------+\n",
      "\n",
      "-------------------------------------------\n",
      "Batch: 3\n",
      "-------------------------------------------\n",
      "+---------------------------------------------------------------------------------------------------------------------------+\n",
      "|value                                                                                                                      |\n",
      "+---------------------------------------------------------------------------------------------------------------------------+\n",
      "|{\"State\":\"KY\",\"window\":{\"start\":\"2022-04-01T00:40:00.000+05:30\",\"end\":\"2022-04-01T00:45:00.000+05:30\"},\"Total_amount\":1242}|\n",
      "+---------------------------------------------------------------------------------------------------------------------------+\n",
      "\n",
      "-------------------------------------------\n",
      "Batch: 31\n",
      "-------------------------------------------\n",
      "+--------+-------+--------+-----+-----+-------------+\n",
      "|Order_id|Item_id|Quantity|Price|State|timestamp    |\n",
      "+--------+-------+--------+-----+-----+-------------+\n",
      "|96692   |33     |4       |10   |GA   |1648753943767|\n",
      "|43321   |40     |1       |20   |GA   |1648753943767|\n",
      "|39914   |38     |6       |47   |GA   |1648753943767|\n",
      "|3505    |10     |7       |28   |GA   |1648753943767|\n",
      "|26580   |93     |5       |42   |GA   |1648753943767|\n",
      "|39220   |97     |8       |28   |GA   |1648753943767|\n",
      "|12396   |89     |4       |18   |GA   |1648753943767|\n",
      "|10221   |54     |8       |1    |GA   |1648753943767|\n",
      "|22195   |20     |4       |36   |GA   |1648753943767|\n",
      "|42925   |68     |4       |15   |GA   |1648753943767|\n",
      "+--------+-------+--------+-----+-----+-------------+\n",
      "\n",
      "-------------------------------------------\n",
      "Batch: 12\n",
      "-------------------------------------------\n",
      "+--------+-------+--------+-----+-----+------+-------------------+\n",
      "|Order_id|Item_id|Quantity|Price|State|Amount|timestamp          |\n",
      "+--------+-------+--------+-----+-----+------+-------------------+\n",
      "|96692   |33     |4       |10   |GA   |40    |2022-04-01 00:42:00|\n",
      "|43321   |40     |1       |20   |GA   |20    |2022-04-01 00:42:00|\n",
      "|39914   |38     |6       |47   |GA   |282   |2022-04-01 00:42:00|\n",
      "|3505    |10     |7       |28   |GA   |196   |2022-04-01 00:42:00|\n",
      "|26580   |93     |5       |42   |GA   |210   |2022-04-01 00:42:00|\n",
      "|39220   |97     |8       |28   |GA   |224   |2022-04-01 00:42:00|\n",
      "|12396   |89     |4       |18   |GA   |72    |2022-04-01 00:42:00|\n",
      "|10221   |54     |8       |1    |GA   |8     |2022-04-01 00:42:00|\n",
      "|22195   |20     |4       |36   |GA   |144   |2022-04-01 00:42:00|\n",
      "|42925   |68     |4       |15   |GA   |60    |2022-04-01 00:42:00|\n",
      "+--------+-------+--------+-----+-----+------+-------------------+\n",
      "\n"
     ]
    }
   ],
   "source": [
    "echoOnconsole =order5minDfKafka\\\n",
    "                .writeStream\\\n",
    "                .outputMode(\"update\")\\\n",
    "                .format(\"console\")\\\n",
    "                .option(\"truncate\", False)\\\n",
    "                .start() # start the query. spark will subscribe for data"
   ]
  },
  {
   "cell_type": "code",
   "execution_count": 14,
   "id": "33238d65-9527-4f1b-97c5-60284c6752db",
   "metadata": {
    "scrolled": true,
    "tags": []
   },
   "outputs": [
    {
     "data": {
      "text/plain": [
       "<pyspark.sql.streaming.StreamingQuery at 0x7f6dac042590>"
      ]
     },
     "execution_count": 14,
     "metadata": {},
     "output_type": "execute_result"
    },
    {
     "name": "stderr",
     "output_type": "stream",
     "text": [
      "22/04/01 02:26:08 WARN HDFSBackedStateStoreProvider: The state for version 459 doesn't exist in loadedMaps. Reading snapshot file and delta files if needed...Note that this is normal for the first batch of starting query.\n",
      "22/04/01 02:26:09 WARN HDFSBackedStateStoreProvider: The state for version 459 doesn't exist in loadedMaps. Reading snapshot file and delta files if needed...Note that this is normal for the first batch of starting query.\n",
      "22/04/01 02:26:09 WARN HDFSBackedStateStoreProvider: The state for version 459 doesn't exist in loadedMaps. Reading snapshot file and delta files if needed...Note that this is normal for the first batch of starting query.\n",
      "22/04/01 02:26:09 WARN HDFSBackedStateStoreProvider: The state for version 459 doesn't exist in loadedMaps. Reading snapshot file and delta files if needed...Note that this is normal for the first batch of starting query.\n",
      "                                                                                \r"
     ]
    }
   ],
   "source": [
    "order5minDfKafka \\\n",
    "            .writeStream\\\n",
    "             .format(\"kafka\")\\\n",
    "            .outputMode(\"update\")\\\n",
    "             .option(\"kafka.bootstrap.servers\", \"localhost:9092\")\\\n",
    "            .option(\"topic\", \"orders-5min\")\\\n",
    "            .option(\"checkpointLocation\", \"file:///tmp/spark3\")\\\n",
    "            .start()"
   ]
  },
  {
   "cell_type": "code",
   "execution_count": null,
   "id": "56f26c7b-e953-4983-84a0-acc6b5307f2b",
   "metadata": {},
   "outputs": [],
   "source": []
  }
 ],
 "metadata": {
  "kernelspec": {
   "display_name": "Python 3 (ipykernel)",
   "language": "python",
   "name": "python3"
  },
  "language_info": {
   "codemirror_mode": {
    "name": "ipython",
    "version": 3
   },
   "file_extension": ".py",
   "mimetype": "text/x-python",
   "name": "python",
   "nbconvert_exporter": "python",
   "pygments_lexer": "ipython3",
   "version": "3.7.12"
  }
 },
 "nbformat": 4,
 "nbformat_minor": 5
}
